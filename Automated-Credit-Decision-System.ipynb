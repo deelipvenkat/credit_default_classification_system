{
 "cells": [
  {
   "cell_type": "markdown",
   "id": "4d5b7cf0",
   "metadata": {},
   "source": [
    "## COMMENT INFO "
   ]
  },
  {
   "cell_type": "code",
   "execution_count": 252,
   "id": "b4809f90",
   "metadata": {},
   "outputs": [
    {
     "data": {
      "text/plain": [
       "\"\\nstatus - A=203 , B=31 ,C=403 ,D=45 total - 682 loans - good - a&c= 606 ,  bad - b&d= 76 - class imbalance -87.5 % good.\\n\\njuly 1993 to dec 1998-loan & credit cards issued , so the review is being done in 1999 ,all the demographics data is \\nfrom 1995-1996, transcations data from 1995-1998 , account creation - 1993 to 1997 dec.\\n\\nTemporal stability - even though the loans are given in different points in time , we consider the analysis of loan \\nperformance when the loan is at the approval stage for the training set i.e at the date of issuance of loan.\\n\\nwhat is the training & test set & what are the dependent variables & what are we trying to predict using machine learning &\\nat what time frame. What is known & unknown to us ( labelled & unlabelled data).\\n\\ngoal- defining our business problem , what we want to predict , what is known to us & making sense of the data. \\n\\ndomain knowledge - here it looks like looking at the status after loan contract ended , if loan not paid then\\nit is taken as not paid, \\n\\nczech coruna 25-30 usd in 1990's , 6 years worth of bank data \\n\\naverage date after taking loan when negative balance started. creating right labels.\\n\\nDEALING WITH TARGET VARIABLE BINNING - trying to reduce misclassification error. C & D - Since we have less instances \\nof bad loans & also all the negative balance parameters of b&d match , so we can consider all instances of 'D'\\nas bad loans(considering it as deliquiency).Earliest deliquiency is 2 months, 4 loans in d which have gone bad within a year i.e C which is not A & D which is not B.\\nTRIED TO FIND SOME CRITERION BUT COULDN'T, so just conisder the basic assumption.\\n\\nsetting an upper bound for loan amount for 600k & duration for 5 years , since we don't have data for time period greater\\nthan this\\n\\nchecking the performance of the model , stratified k fold & using cohen kappa , f1 , prcurve\\n\\naccurate measure of fixed_salary of the client & average_balance in some useful form.\\n\\n\\n\""
      ]
     },
     "execution_count": 252,
     "metadata": {},
     "output_type": "execute_result"
    }
   ],
   "source": [
    "\"\"\"\n",
    "status - A=203 , B=31 ,C=403 ,D=45 total - 682 loans - good - a&c= 606 ,  bad - b&d= 76 - class imbalance -87.5 % good.\n",
    "\n",
    "july 1993 to dec 1998-loan & credit cards issued , so the review is being done in 1999 ,all the demographics data is \n",
    "from 1995-1996, transcations data from 1995-1998 , account creation - 1993 to 1997 dec.\n",
    "\n",
    "Temporal stability - even though the loans are given in different points in time , we consider the analysis of loan \n",
    "performance when the loan is at the approval stage for the training set i.e at the date of issuance of loan.\n",
    "\n",
    "what is the training & test set & what are the dependent variables & what are we trying to predict using machine learning &\n",
    "at what time frame. What is known & unknown to us ( labelled & unlabelled data).\n",
    "\n",
    "goal- defining our business problem , what we want to predict , what is known to us & making sense of the data. \n",
    "\n",
    "domain knowledge - here it looks like looking at the status after loan contract ended , if loan not paid then\n",
    "it is taken as not paid, \n",
    "\n",
    "czech coruna 25-30 usd in 1990's , 6 years worth of bank data \n",
    "\n",
    "average date after taking loan when negative balance started. creating right labels.\n",
    "\n",
    "DEALING WITH TARGET VARIABLE BINNING - trying to reduce misclassification error. C & D - Since we have less instances \n",
    "of bad loans & also all the negative balance parameters of b&d match , so we can consider all instances of 'D'\n",
    "as bad loans(considering it as deliquiency).Earliest deliquiency is 2 months, 4 loans in d which have gone bad within a year i.e C which is not A & D which is not B.\n",
    "TRIED TO FIND SOME CRITERION BUT COULDN'T, so just conisder the basic assumption.\n",
    "\n",
    "setting an upper bound for loan amount for 600k & duration for 5 years , since we don't have data for time period greater\n",
    "than this\n",
    "\n",
    "checking the performance of the model , stratified k fold & using cohen kappa , f1 , prcurve\n",
    "\n",
    "accurate measure of fixed_salary of the client & average_balance in some useful form.- average transcation & order amount.\n",
    "\n",
    "\n",
    "\"\"\""
   ]
  },
  {
   "cell_type": "markdown",
   "id": "5b971128",
   "metadata": {},
   "source": [
    "## IMPORTING LIBRARIES "
   ]
  },
  {
   "cell_type": "code",
   "execution_count": 2,
   "id": "d004dcd2",
   "metadata": {},
   "outputs": [],
   "source": [
    "import numpy as np\n",
    "import pandas as pd\n",
    "import seaborn as sns\n",
    "import matplotlib.pyplot as plt\n",
    "from mysql import connector"
   ]
  },
  {
   "cell_type": "markdown",
   "id": "db3449df",
   "metadata": {},
   "source": [
    "## CONNECTING WITH MYSQL IN PYTHON USING MYSQL/CONNECTOR "
   ]
  },
  {
   "cell_type": "code",
   "execution_count": 3,
   "id": "17107be2",
   "metadata": {},
   "outputs": [
    {
     "name": "stdout",
     "output_type": "stream",
     "text": [
      "<mysql.connector.connection_cext.CMySQLConnection object at 0x000002B2A5F307C0>\n"
     ]
    }
   ],
   "source": [
    "mydb = connector.connect(\n",
    "  host=\"relational.fit.cvut.cz\",\n",
    "  user=\"guest\",\n",
    "  password=\"relational\",\n",
    "  database=\"financial\"  \n",
    ")\n",
    "\n",
    "print(mydb)"
   ]
  },
  {
   "cell_type": "markdown",
   "id": "89416271",
   "metadata": {},
   "source": [
    "###  CONVERTING MYSQL QUERY OUTPUT TO PANDAS DATAFRAME"
   ]
  },
  {
   "cell_type": "code",
   "execution_count": 4,
   "id": "7c1081cf",
   "metadata": {},
   "outputs": [],
   "source": [
    "# functions to convert our query outputs to pandas dataframe.\n",
    "\n",
    "def execute(query, header=False):\n",
    "    \"\"\"Execute SQL commands and return retrieved queries.\"\"\"\n",
    "    cursor = mydb.cursor(buffered=True)\n",
    "    cursor.execute(query)\n",
    "    try:\n",
    "        record = cursor.fetchall()\n",
    "        if header:\n",
    "            \n",
    "            header = [i[0] for i in cursor.description]\n",
    "            return {'header': header, 'record': record}\n",
    "        else:\n",
    "            return record\n",
    "    except:\n",
    "        \n",
    "        pass\n",
    "        \n",
    "def to_df(query):\n",
    "    \"\"\"Return the retrieved SQL queries into pandas dataframe.\"\"\"\n",
    "    res = execute(query, header=True)\n",
    "    df = pd.DataFrame(res['record'])\n",
    "    df.columns = res['header']\n",
    "    return df"
   ]
  },
  {
   "cell_type": "markdown",
   "id": "4cc699ee",
   "metadata": {},
   "source": [
    "## CREATING DATAFRAMES FROM MYSQL QUERIES "
   ]
  },
  {
   "cell_type": "code",
   "execution_count": 5,
   "id": "16ab5ab0",
   "metadata": {},
   "outputs": [
    {
     "data": {
      "text/html": [
       "<div>\n",
       "<style scoped>\n",
       "    .dataframe tbody tr th:only-of-type {\n",
       "        vertical-align: middle;\n",
       "    }\n",
       "\n",
       "    .dataframe tbody tr th {\n",
       "        vertical-align: top;\n",
       "    }\n",
       "\n",
       "    .dataframe thead th {\n",
       "        text-align: right;\n",
       "    }\n",
       "</style>\n",
       "<table border=\"1\" class=\"dataframe\">\n",
       "  <thead>\n",
       "    <tr style=\"text-align: right;\">\n",
       "      <th></th>\n",
       "      <th>disp_id</th>\n",
       "      <th>client_id</th>\n",
       "      <th>account_id</th>\n",
       "      <th>type</th>\n",
       "    </tr>\n",
       "  </thead>\n",
       "  <tbody>\n",
       "    <tr>\n",
       "      <th>0</th>\n",
       "      <td>1</td>\n",
       "      <td>1</td>\n",
       "      <td>1</td>\n",
       "      <td>OWNER</td>\n",
       "    </tr>\n",
       "    <tr>\n",
       "      <th>1</th>\n",
       "      <td>2</td>\n",
       "      <td>2</td>\n",
       "      <td>2</td>\n",
       "      <td>OWNER</td>\n",
       "    </tr>\n",
       "    <tr>\n",
       "      <th>2</th>\n",
       "      <td>3</td>\n",
       "      <td>3</td>\n",
       "      <td>2</td>\n",
       "      <td>DISPONENT</td>\n",
       "    </tr>\n",
       "    <tr>\n",
       "      <th>3</th>\n",
       "      <td>4</td>\n",
       "      <td>4</td>\n",
       "      <td>3</td>\n",
       "      <td>OWNER</td>\n",
       "    </tr>\n",
       "    <tr>\n",
       "      <th>4</th>\n",
       "      <td>5</td>\n",
       "      <td>5</td>\n",
       "      <td>3</td>\n",
       "      <td>DISPONENT</td>\n",
       "    </tr>\n",
       "  </tbody>\n",
       "</table>\n",
       "</div>"
      ],
      "text/plain": [
       "   disp_id  client_id  account_id       type\n",
       "0        1          1           1      OWNER\n",
       "1        2          2           2      OWNER\n",
       "2        3          3           2  DISPONENT\n",
       "3        4          4           3      OWNER\n",
       "4        5          5           3  DISPONENT"
      ]
     },
     "execution_count": 5,
     "metadata": {},
     "output_type": "execute_result"
    }
   ],
   "source": [
    "# TEST QUERY\n",
    "qu=\"\"\"select * from disp;\n",
    "      \n",
    "\n",
    "\"\"\"\n",
    "d=to_df(qu)\n",
    "d.head()\n"
   ]
  },
  {
   "cell_type": "code",
   "execution_count": 6,
   "id": "0e50f6b5",
   "metadata": {},
   "outputs": [],
   "source": [
    "# CREATING CLIENT DATAFRAME\n",
    "qu=\"\"\"SELECT * FROM account \n",
    "      JOIN disp ON account.account_id=disp.account_id\n",
    "      JOIN client ON disp.client_id=client.client_id\n",
    "      LEFT JOIN card ON disp.disp_id=card.disp_id\n",
    "      LEFT JOIN district ON client.district_id=district.district_id;\n",
    "\n",
    "\"\"\"\n",
    "cl=to_df(qu) # client details 5369 records"
   ]
  },
  {
   "cell_type": "code",
   "execution_count": 7,
   "id": "3ab29db2",
   "metadata": {},
   "outputs": [
    {
     "data": {
      "text/html": [
       "<div>\n",
       "<style scoped>\n",
       "    .dataframe tbody tr th:only-of-type {\n",
       "        vertical-align: middle;\n",
       "    }\n",
       "\n",
       "    .dataframe tbody tr th {\n",
       "        vertical-align: top;\n",
       "    }\n",
       "\n",
       "    .dataframe thead th {\n",
       "        text-align: right;\n",
       "    }\n",
       "</style>\n",
       "<table border=\"1\" class=\"dataframe\">\n",
       "  <thead>\n",
       "    <tr style=\"text-align: right;\">\n",
       "      <th></th>\n",
       "      <th>account_id</th>\n",
       "      <th>no_clients</th>\n",
       "    </tr>\n",
       "  </thead>\n",
       "  <tbody>\n",
       "    <tr>\n",
       "      <th>0</th>\n",
       "      <td>1</td>\n",
       "      <td>1</td>\n",
       "    </tr>\n",
       "    <tr>\n",
       "      <th>1</th>\n",
       "      <td>2</td>\n",
       "      <td>2</td>\n",
       "    </tr>\n",
       "    <tr>\n",
       "      <th>2</th>\n",
       "      <td>3</td>\n",
       "      <td>2</td>\n",
       "    </tr>\n",
       "    <tr>\n",
       "      <th>3</th>\n",
       "      <td>4</td>\n",
       "      <td>1</td>\n",
       "    </tr>\n",
       "    <tr>\n",
       "      <th>4</th>\n",
       "      <td>5</td>\n",
       "      <td>1</td>\n",
       "    </tr>\n",
       "  </tbody>\n",
       "</table>\n",
       "</div>"
      ],
      "text/plain": [
       "   account_id  no_clients\n",
       "0           1           1\n",
       "1           2           2\n",
       "2           3           2\n",
       "3           4           1\n",
       "4           5           1"
      ]
     },
     "execution_count": 7,
     "metadata": {},
     "output_type": "execute_result"
    }
   ],
   "source": [
    "# NUMBER OF CLIENTS PER ACCOUNT\n",
    "qe=\"\"\" select account_id, count(*) as no_clients  from disp\n",
    "       group by account_id ;    \n",
    "        \n",
    "\"\"\"\n",
    "de=to_df(qe)\n",
    "de.head() # no of clients per account"
   ]
  },
  {
   "cell_type": "code",
   "execution_count": 8,
   "id": "00cde0f2",
   "metadata": {},
   "outputs": [
    {
     "data": {
      "text/html": [
       "<div>\n",
       "<style scoped>\n",
       "    .dataframe tbody tr th:only-of-type {\n",
       "        vertical-align: middle;\n",
       "    }\n",
       "\n",
       "    .dataframe tbody tr th {\n",
       "        vertical-align: top;\n",
       "    }\n",
       "\n",
       "    .dataframe thead th {\n",
       "        text-align: right;\n",
       "    }\n",
       "</style>\n",
       "<table border=\"1\" class=\"dataframe\">\n",
       "  <thead>\n",
       "    <tr style=\"text-align: right;\">\n",
       "      <th></th>\n",
       "      <th>negative_balance</th>\n",
       "      <th>account_id</th>\n",
       "    </tr>\n",
       "  </thead>\n",
       "  <tbody>\n",
       "    <tr>\n",
       "      <th>22</th>\n",
       "      <td>1</td>\n",
       "      <td>9138</td>\n",
       "    </tr>\n",
       "    <tr>\n",
       "      <th>23</th>\n",
       "      <td>7</td>\n",
       "      <td>9633</td>\n",
       "    </tr>\n",
       "    <tr>\n",
       "      <th>24</th>\n",
       "      <td>7</td>\n",
       "      <td>9750</td>\n",
       "    </tr>\n",
       "    <tr>\n",
       "      <th>25</th>\n",
       "      <td>4</td>\n",
       "      <td>10365</td>\n",
       "    </tr>\n",
       "    <tr>\n",
       "      <th>26</th>\n",
       "      <td>1</td>\n",
       "      <td>11021</td>\n",
       "    </tr>\n",
       "  </tbody>\n",
       "</table>\n",
       "</div>"
      ],
      "text/plain": [
       "    negative_balance  account_id\n",
       "22                 1        9138\n",
       "23                 7        9633\n",
       "24                 7        9750\n",
       "25                 4       10365\n",
       "26                 1       11021"
      ]
     },
     "execution_count": 8,
     "metadata": {},
     "output_type": "execute_result"
    }
   ],
   "source": [
    "# NO OF NEGATIVE BALANCE TRANSCATIONS\n",
    "neg=\"\"\" select count(*) as negative_balance , trans.account_id  from trans\n",
    "        left join loan on trans.account_id=loan.account_id\n",
    "        where (trans.balance<0) & (trans.date < loan.date)\n",
    "        group by account_id ; \n",
    "        \n",
    "\n",
    "\"\"\"\n",
    "ng=to_df(neg)\n",
    "ng.tail()"
   ]
  },
  {
   "cell_type": "code",
   "execution_count": 9,
   "id": "45a9c5da",
   "metadata": {},
   "outputs": [
    {
     "data": {
      "text/html": [
       "<div>\n",
       "<style scoped>\n",
       "    .dataframe tbody tr th:only-of-type {\n",
       "        vertical-align: middle;\n",
       "    }\n",
       "\n",
       "    .dataframe tbody tr th {\n",
       "        vertical-align: top;\n",
       "    }\n",
       "\n",
       "    .dataframe thead th {\n",
       "        text-align: right;\n",
       "    }\n",
       "</style>\n",
       "<table border=\"1\" class=\"dataframe\">\n",
       "  <thead>\n",
       "    <tr style=\"text-align: right;\">\n",
       "      <th></th>\n",
       "      <th>avg_balance</th>\n",
       "      <th>account_id</th>\n",
       "    </tr>\n",
       "  </thead>\n",
       "  <tbody>\n",
       "    <tr>\n",
       "      <th>677</th>\n",
       "      <td>55438.8148</td>\n",
       "      <td>11327</td>\n",
       "    </tr>\n",
       "    <tr>\n",
       "      <th>678</th>\n",
       "      <td>38619.0849</td>\n",
       "      <td>11328</td>\n",
       "    </tr>\n",
       "    <tr>\n",
       "      <th>679</th>\n",
       "      <td>59352.6667</td>\n",
       "      <td>11349</td>\n",
       "    </tr>\n",
       "    <tr>\n",
       "      <th>680</th>\n",
       "      <td>36480.2381</td>\n",
       "      <td>11359</td>\n",
       "    </tr>\n",
       "    <tr>\n",
       "      <th>681</th>\n",
       "      <td>30870.0187</td>\n",
       "      <td>11362</td>\n",
       "    </tr>\n",
       "  </tbody>\n",
       "</table>\n",
       "</div>"
      ],
      "text/plain": [
       "    avg_balance  account_id\n",
       "677  55438.8148       11327\n",
       "678  38619.0849       11328\n",
       "679  59352.6667       11349\n",
       "680  36480.2381       11359\n",
       "681  30870.0187       11362"
      ]
     },
     "execution_count": 9,
     "metadata": {},
     "output_type": "execute_result"
    }
   ],
   "source": [
    "# AVERAGE BALANCE IN ACCOUNT BEFORE LOAN ISSUANCE DATE.\n",
    "av=\"\"\" select avg(trans.balance) as avg_balance , trans.account_id  from trans\n",
    "       left join loan on trans.account_id=loan.account_id\n",
    "       where trans.date < loan.date \n",
    "       group by account_id ; \n",
    "        \n",
    "\"\"\"\n",
    "\n",
    "\n",
    "ave=to_df(av)\n",
    "ave.tail()"
   ]
  },
  {
   "cell_type": "code",
   "execution_count": 10,
   "id": "47482fa1",
   "metadata": {},
   "outputs": [],
   "source": [
    "#sal.sort_values(by=['fixed_salary']).head(10)"
   ]
  },
  {
   "cell_type": "code",
   "execution_count": 11,
   "id": "51f403f0",
   "metadata": {},
   "outputs": [],
   "source": [
    "#data.loc[(data['account_id']==1247)]"
   ]
  },
  {
   "cell_type": "code",
   "execution_count": 12,
   "id": "5a6131d8",
   "metadata": {},
   "outputs": [
    {
     "data": {
      "text/html": [
       "<div>\n",
       "<style scoped>\n",
       "    .dataframe tbody tr th:only-of-type {\n",
       "        vertical-align: middle;\n",
       "    }\n",
       "\n",
       "    .dataframe tbody tr th {\n",
       "        vertical-align: top;\n",
       "    }\n",
       "\n",
       "    .dataframe thead th {\n",
       "        text-align: right;\n",
       "    }\n",
       "</style>\n",
       "<table border=\"1\" class=\"dataframe\">\n",
       "  <thead>\n",
       "    <tr style=\"text-align: right;\">\n",
       "      <th></th>\n",
       "      <th>loan_id</th>\n",
       "      <th>account_id</th>\n",
       "      <th>date</th>\n",
       "      <th>amount</th>\n",
       "      <th>duration</th>\n",
       "      <th>payments</th>\n",
       "      <th>status</th>\n",
       "      <th>account_id</th>\n",
       "      <th>district_id</th>\n",
       "      <th>frequency</th>\n",
       "      <th>...</th>\n",
       "      <th>A7</th>\n",
       "      <th>A8</th>\n",
       "      <th>A9</th>\n",
       "      <th>A10</th>\n",
       "      <th>A11</th>\n",
       "      <th>A12</th>\n",
       "      <th>A13</th>\n",
       "      <th>A14</th>\n",
       "      <th>A15</th>\n",
       "      <th>A16</th>\n",
       "    </tr>\n",
       "  </thead>\n",
       "  <tbody>\n",
       "    <tr>\n",
       "      <th>0</th>\n",
       "      <td>4959</td>\n",
       "      <td>2</td>\n",
       "      <td>1994-01-05</td>\n",
       "      <td>80952</td>\n",
       "      <td>24</td>\n",
       "      <td>3373.00</td>\n",
       "      <td>A</td>\n",
       "      <td>2</td>\n",
       "      <td>1</td>\n",
       "      <td>POPLATEK MESICNE</td>\n",
       "      <td>...</td>\n",
       "      <td>0</td>\n",
       "      <td>1</td>\n",
       "      <td>1</td>\n",
       "      <td>100.0</td>\n",
       "      <td>12541</td>\n",
       "      <td>0.2</td>\n",
       "      <td>0.43</td>\n",
       "      <td>167</td>\n",
       "      <td>85677.0</td>\n",
       "      <td>99107</td>\n",
       "    </tr>\n",
       "    <tr>\n",
       "      <th>1</th>\n",
       "      <td>4961</td>\n",
       "      <td>19</td>\n",
       "      <td>1996-04-29</td>\n",
       "      <td>30276</td>\n",
       "      <td>12</td>\n",
       "      <td>2523.00</td>\n",
       "      <td>B</td>\n",
       "      <td>19</td>\n",
       "      <td>21</td>\n",
       "      <td>POPLATEK MESICNE</td>\n",
       "      <td>...</td>\n",
       "      <td>7</td>\n",
       "      <td>1</td>\n",
       "      <td>7</td>\n",
       "      <td>67.0</td>\n",
       "      <td>9104</td>\n",
       "      <td>1.5</td>\n",
       "      <td>2.07</td>\n",
       "      <td>123</td>\n",
       "      <td>2299.0</td>\n",
       "      <td>2354</td>\n",
       "    </tr>\n",
       "    <tr>\n",
       "      <th>2</th>\n",
       "      <td>4962</td>\n",
       "      <td>25</td>\n",
       "      <td>1997-12-08</td>\n",
       "      <td>30276</td>\n",
       "      <td>12</td>\n",
       "      <td>2523.00</td>\n",
       "      <td>A</td>\n",
       "      <td>25</td>\n",
       "      <td>68</td>\n",
       "      <td>POPLATEK MESICNE</td>\n",
       "      <td>...</td>\n",
       "      <td>18</td>\n",
       "      <td>2</td>\n",
       "      <td>6</td>\n",
       "      <td>57.2</td>\n",
       "      <td>9893</td>\n",
       "      <td>4.0</td>\n",
       "      <td>4.72</td>\n",
       "      <td>96</td>\n",
       "      <td>5623.0</td>\n",
       "      <td>5887</td>\n",
       "    </tr>\n",
       "    <tr>\n",
       "      <th>3</th>\n",
       "      <td>4967</td>\n",
       "      <td>37</td>\n",
       "      <td>1998-10-14</td>\n",
       "      <td>318480</td>\n",
       "      <td>60</td>\n",
       "      <td>5308.00</td>\n",
       "      <td>D</td>\n",
       "      <td>37</td>\n",
       "      <td>20</td>\n",
       "      <td>POPLATEK MESICNE</td>\n",
       "      <td>...</td>\n",
       "      <td>3</td>\n",
       "      <td>1</td>\n",
       "      <td>4</td>\n",
       "      <td>58.4</td>\n",
       "      <td>8547</td>\n",
       "      <td>2.6</td>\n",
       "      <td>3.64</td>\n",
       "      <td>120</td>\n",
       "      <td>1563.0</td>\n",
       "      <td>1542</td>\n",
       "    </tr>\n",
       "    <tr>\n",
       "      <th>4</th>\n",
       "      <td>4968</td>\n",
       "      <td>38</td>\n",
       "      <td>1998-04-19</td>\n",
       "      <td>110736</td>\n",
       "      <td>48</td>\n",
       "      <td>2307.00</td>\n",
       "      <td>C</td>\n",
       "      <td>38</td>\n",
       "      <td>19</td>\n",
       "      <td>POPLATEK TYDNE</td>\n",
       "      <td>...</td>\n",
       "      <td>3</td>\n",
       "      <td>1</td>\n",
       "      <td>4</td>\n",
       "      <td>52.7</td>\n",
       "      <td>8402</td>\n",
       "      <td>3.1</td>\n",
       "      <td>3.98</td>\n",
       "      <td>120</td>\n",
       "      <td>999.0</td>\n",
       "      <td>1099</td>\n",
       "    </tr>\n",
       "  </tbody>\n",
       "</table>\n",
       "<p>5 rows × 39 columns</p>\n",
       "</div>"
      ],
      "text/plain": [
       "   loan_id  account_id        date  amount  duration payments status  \\\n",
       "0     4959           2  1994-01-05   80952        24  3373.00      A   \n",
       "1     4961          19  1996-04-29   30276        12  2523.00      B   \n",
       "2     4962          25  1997-12-08   30276        12  2523.00      A   \n",
       "3     4967          37  1998-10-14  318480        60  5308.00      D   \n",
       "4     4968          38  1998-04-19  110736        48  2307.00      C   \n",
       "\n",
       "   account_id  district_id         frequency  ...  A7  A8  A9    A10    A11  \\\n",
       "0           2            1  POPLATEK MESICNE  ...   0   1   1  100.0  12541   \n",
       "1          19           21  POPLATEK MESICNE  ...   7   1   7   67.0   9104   \n",
       "2          25           68  POPLATEK MESICNE  ...  18   2   6   57.2   9893   \n",
       "3          37           20  POPLATEK MESICNE  ...   3   1   4   58.4   8547   \n",
       "4          38           19    POPLATEK TYDNE  ...   3   1   4   52.7   8402   \n",
       "\n",
       "   A12   A13  A14      A15    A16  \n",
       "0  0.2  0.43  167  85677.0  99107  \n",
       "1  1.5  2.07  123   2299.0   2354  \n",
       "2  4.0  4.72   96   5623.0   5887  \n",
       "3  2.6  3.64  120   1563.0   1542  \n",
       "4  3.1  3.98  120    999.0   1099  \n",
       "\n",
       "[5 rows x 39 columns]"
      ]
     },
     "execution_count": 12,
     "metadata": {},
     "output_type": "execute_result"
    }
   ],
   "source": [
    "# LOAN FEATURE TRACING WITH OWNER CLIENT ID & DETAILS\n",
    "\n",
    "q=\"\"\"SELECT * FROM loan \n",
    "     JOIN account ON loan.account_id=account.account_id \n",
    "     JOIN disp ON account.account_id=disp.account_id\n",
    "     JOIN client ON disp.client_id=client.client_id\n",
    "     LEFT JOIN card ON disp.disp_id=card.disp_id\n",
    "     LEFT JOIN district ON client.district_id=district.district_id\n",
    "     where disp.type=\"OWNER\";\n",
    "     \n",
    "\"\"\"\n",
    "a=to_df(q)\n",
    "a.head() # loan feature tracing"
   ]
  },
  {
   "cell_type": "code",
   "execution_count": 13,
   "id": "f9d13ed9",
   "metadata": {},
   "outputs": [],
   "source": [
    "b=a.iloc[:,[0,1,2,3,4,5,6,8,9,14,16,17,19,21,22,24,25,26,27,28,29,30,31,32,33,34,35,36,37,38]]"
   ]
  },
  {
   "cell_type": "code",
   "execution_count": 14,
   "id": "bfed066f",
   "metadata": {},
   "outputs": [],
   "source": [
    "#b.info()"
   ]
  },
  {
   "cell_type": "code",
   "execution_count": 15,
   "id": "064d6b05",
   "metadata": {},
   "outputs": [],
   "source": [
    "dat=pd.merge(b,de,on='account_id',how='inner')\n",
    "date=pd.merge(dat,ng,on='account_id',how='left')\n",
    "data=pd.merge(date,ave,on='account_id',how='left')"
   ]
  },
  {
   "cell_type": "code",
   "execution_count": 16,
   "id": "991f9fe5",
   "metadata": {},
   "outputs": [
    {
     "data": {
      "text/html": [
       "<div>\n",
       "<style scoped>\n",
       "    .dataframe tbody tr th:only-of-type {\n",
       "        vertical-align: middle;\n",
       "    }\n",
       "\n",
       "    .dataframe tbody tr th {\n",
       "        vertical-align: top;\n",
       "    }\n",
       "\n",
       "    .dataframe thead th {\n",
       "        text-align: right;\n",
       "    }\n",
       "</style>\n",
       "<table border=\"1\" class=\"dataframe\">\n",
       "  <thead>\n",
       "    <tr style=\"text-align: right;\">\n",
       "      <th></th>\n",
       "      <th>loan_id</th>\n",
       "      <th>account_id</th>\n",
       "      <th>date</th>\n",
       "      <th>amount</th>\n",
       "      <th>duration</th>\n",
       "      <th>payments</th>\n",
       "      <th>status</th>\n",
       "      <th>district_id</th>\n",
       "      <th>frequency</th>\n",
       "      <th>type</th>\n",
       "      <th>...</th>\n",
       "      <th>A10</th>\n",
       "      <th>A11</th>\n",
       "      <th>A12</th>\n",
       "      <th>A13</th>\n",
       "      <th>A14</th>\n",
       "      <th>A15</th>\n",
       "      <th>A16</th>\n",
       "      <th>no_clients</th>\n",
       "      <th>negative_balance</th>\n",
       "      <th>avg_balance</th>\n",
       "    </tr>\n",
       "  </thead>\n",
       "  <tbody>\n",
       "    <tr>\n",
       "      <th>0</th>\n",
       "      <td>4959</td>\n",
       "      <td>2</td>\n",
       "      <td>1994-01-05</td>\n",
       "      <td>80952</td>\n",
       "      <td>24</td>\n",
       "      <td>3373.00</td>\n",
       "      <td>A</td>\n",
       "      <td>1</td>\n",
       "      <td>POPLATEK MESICNE</td>\n",
       "      <td>OWNER</td>\n",
       "      <td>...</td>\n",
       "      <td>100.0</td>\n",
       "      <td>12541</td>\n",
       "      <td>0.2</td>\n",
       "      <td>0.43</td>\n",
       "      <td>167</td>\n",
       "      <td>85677.0</td>\n",
       "      <td>99107</td>\n",
       "      <td>2</td>\n",
       "      <td>NaN</td>\n",
       "      <td>32590.7593</td>\n",
       "    </tr>\n",
       "    <tr>\n",
       "      <th>1</th>\n",
       "      <td>4961</td>\n",
       "      <td>19</td>\n",
       "      <td>1996-04-29</td>\n",
       "      <td>30276</td>\n",
       "      <td>12</td>\n",
       "      <td>2523.00</td>\n",
       "      <td>B</td>\n",
       "      <td>21</td>\n",
       "      <td>POPLATEK MESICNE</td>\n",
       "      <td>OWNER</td>\n",
       "      <td>...</td>\n",
       "      <td>67.0</td>\n",
       "      <td>9104</td>\n",
       "      <td>1.5</td>\n",
       "      <td>2.07</td>\n",
       "      <td>123</td>\n",
       "      <td>2299.0</td>\n",
       "      <td>2354</td>\n",
       "      <td>1</td>\n",
       "      <td>NaN</td>\n",
       "      <td>25197.1375</td>\n",
       "    </tr>\n",
       "    <tr>\n",
       "      <th>2</th>\n",
       "      <td>4962</td>\n",
       "      <td>25</td>\n",
       "      <td>1997-12-08</td>\n",
       "      <td>30276</td>\n",
       "      <td>12</td>\n",
       "      <td>2523.00</td>\n",
       "      <td>A</td>\n",
       "      <td>68</td>\n",
       "      <td>POPLATEK MESICNE</td>\n",
       "      <td>OWNER</td>\n",
       "      <td>...</td>\n",
       "      <td>57.2</td>\n",
       "      <td>9893</td>\n",
       "      <td>4.0</td>\n",
       "      <td>4.72</td>\n",
       "      <td>96</td>\n",
       "      <td>5623.0</td>\n",
       "      <td>5887</td>\n",
       "      <td>1</td>\n",
       "      <td>NaN</td>\n",
       "      <td>62991.4085</td>\n",
       "    </tr>\n",
       "    <tr>\n",
       "      <th>3</th>\n",
       "      <td>4967</td>\n",
       "      <td>37</td>\n",
       "      <td>1998-10-14</td>\n",
       "      <td>318480</td>\n",
       "      <td>60</td>\n",
       "      <td>5308.00</td>\n",
       "      <td>D</td>\n",
       "      <td>20</td>\n",
       "      <td>POPLATEK MESICNE</td>\n",
       "      <td>OWNER</td>\n",
       "      <td>...</td>\n",
       "      <td>58.4</td>\n",
       "      <td>8547</td>\n",
       "      <td>2.6</td>\n",
       "      <td>3.64</td>\n",
       "      <td>120</td>\n",
       "      <td>1563.0</td>\n",
       "      <td>1542</td>\n",
       "      <td>1</td>\n",
       "      <td>1.0</td>\n",
       "      <td>39954.0345</td>\n",
       "    </tr>\n",
       "    <tr>\n",
       "      <th>4</th>\n",
       "      <td>4968</td>\n",
       "      <td>38</td>\n",
       "      <td>1998-04-19</td>\n",
       "      <td>110736</td>\n",
       "      <td>48</td>\n",
       "      <td>2307.00</td>\n",
       "      <td>C</td>\n",
       "      <td>19</td>\n",
       "      <td>POPLATEK TYDNE</td>\n",
       "      <td>OWNER</td>\n",
       "      <td>...</td>\n",
       "      <td>52.7</td>\n",
       "      <td>8402</td>\n",
       "      <td>3.1</td>\n",
       "      <td>3.98</td>\n",
       "      <td>120</td>\n",
       "      <td>999.0</td>\n",
       "      <td>1099</td>\n",
       "      <td>1</td>\n",
       "      <td>NaN</td>\n",
       "      <td>31383.5818</td>\n",
       "    </tr>\n",
       "  </tbody>\n",
       "</table>\n",
       "<p>5 rows × 33 columns</p>\n",
       "</div>"
      ],
      "text/plain": [
       "   loan_id  account_id        date  amount  duration payments status  \\\n",
       "0     4959           2  1994-01-05   80952        24  3373.00      A   \n",
       "1     4961          19  1996-04-29   30276        12  2523.00      B   \n",
       "2     4962          25  1997-12-08   30276        12  2523.00      A   \n",
       "3     4967          37  1998-10-14  318480        60  5308.00      D   \n",
       "4     4968          38  1998-04-19  110736        48  2307.00      C   \n",
       "\n",
       "   district_id         frequency   type  ...    A10    A11  A12   A13  A14  \\\n",
       "0            1  POPLATEK MESICNE  OWNER  ...  100.0  12541  0.2  0.43  167   \n",
       "1           21  POPLATEK MESICNE  OWNER  ...   67.0   9104  1.5  2.07  123   \n",
       "2           68  POPLATEK MESICNE  OWNER  ...   57.2   9893  4.0  4.72   96   \n",
       "3           20  POPLATEK MESICNE  OWNER  ...   58.4   8547  2.6  3.64  120   \n",
       "4           19    POPLATEK TYDNE  OWNER  ...   52.7   8402  3.1  3.98  120   \n",
       "\n",
       "       A15    A16  no_clients  negative_balance  avg_balance  \n",
       "0  85677.0  99107           2               NaN   32590.7593  \n",
       "1   2299.0   2354           1               NaN   25197.1375  \n",
       "2   5623.0   5887           1               NaN   62991.4085  \n",
       "3   1563.0   1542           1               1.0   39954.0345  \n",
       "4    999.0   1099           1               NaN   31383.5818  \n",
       "\n",
       "[5 rows x 33 columns]"
      ]
     },
     "execution_count": 16,
     "metadata": {},
     "output_type": "execute_result"
    }
   ],
   "source": [
    "data.head()"
   ]
  },
  {
   "cell_type": "markdown",
   "id": "967bf025",
   "metadata": {},
   "source": [
    "## FINDING MONTHLY INCOME FROM TRANSCATION DETAILS "
   ]
  },
  {
   "cell_type": "code",
   "execution_count": 17,
   "id": "96fc2261",
   "metadata": {},
   "outputs": [],
   "source": [
    "com=\"\"\" select * from trans; \n",
    "\n",
    "\"\"\"\n",
    "cm=to_df(com)\n",
    "\n"
   ]
  },
  {
   "cell_type": "code",
   "execution_count": 18,
   "id": "563d77b5",
   "metadata": {},
   "outputs": [],
   "source": [
    "# CREATING FIXED_SALARY FEATURE USING TRANSCATION DATA OF CLIENTS.\n",
    "c=[]\n",
    "for i in data['account_id']:\n",
    "    fixed=cm.loc[(cm['account_id']==i) & (cm['type']=='PRIJEM') &(str(cm['date'])< str(data['date'].loc[data['account_id']==i]))]['amount'].mode()[0]\n",
    "    c.append([i,fixed])\n",
    "\n",
    " "
   ]
  },
  {
   "cell_type": "code",
   "execution_count": 19,
   "id": "7b52ef40",
   "metadata": {},
   "outputs": [],
   "source": [
    "sal=pd.DataFrame(c,columns=['account_id','fixed_salary'])  \n",
    "#sal.head()"
   ]
  },
  {
   "cell_type": "code",
   "execution_count": 20,
   "id": "728a632e",
   "metadata": {},
   "outputs": [],
   "source": [
    "dt=pd.merge(data,sal,on='account_id',how='inner')"
   ]
  },
  {
   "cell_type": "code",
   "execution_count": 21,
   "id": "63e0ae11",
   "metadata": {},
   "outputs": [
    {
     "data": {
      "text/html": [
       "<div>\n",
       "<style scoped>\n",
       "    .dataframe tbody tr th:only-of-type {\n",
       "        vertical-align: middle;\n",
       "    }\n",
       "\n",
       "    .dataframe tbody tr th {\n",
       "        vertical-align: top;\n",
       "    }\n",
       "\n",
       "    .dataframe thead th {\n",
       "        text-align: right;\n",
       "    }\n",
       "</style>\n",
       "<table border=\"1\" class=\"dataframe\">\n",
       "  <thead>\n",
       "    <tr style=\"text-align: right;\">\n",
       "      <th></th>\n",
       "      <th>loan_id</th>\n",
       "      <th>account_id</th>\n",
       "      <th>date</th>\n",
       "      <th>amount</th>\n",
       "      <th>duration</th>\n",
       "      <th>payments</th>\n",
       "      <th>status</th>\n",
       "      <th>district_id</th>\n",
       "      <th>frequency</th>\n",
       "      <th>type</th>\n",
       "      <th>...</th>\n",
       "      <th>A11</th>\n",
       "      <th>A12</th>\n",
       "      <th>A13</th>\n",
       "      <th>A14</th>\n",
       "      <th>A15</th>\n",
       "      <th>A16</th>\n",
       "      <th>no_clients</th>\n",
       "      <th>negative_balance</th>\n",
       "      <th>avg_balance</th>\n",
       "      <th>fixed_salary</th>\n",
       "    </tr>\n",
       "  </thead>\n",
       "  <tbody>\n",
       "    <tr>\n",
       "      <th>0</th>\n",
       "      <td>4959</td>\n",
       "      <td>2</td>\n",
       "      <td>1994-01-05</td>\n",
       "      <td>80952</td>\n",
       "      <td>24</td>\n",
       "      <td>3373.00</td>\n",
       "      <td>A</td>\n",
       "      <td>1</td>\n",
       "      <td>POPLATEK MESICNE</td>\n",
       "      <td>OWNER</td>\n",
       "      <td>...</td>\n",
       "      <td>12541</td>\n",
       "      <td>0.2</td>\n",
       "      <td>0.43</td>\n",
       "      <td>167</td>\n",
       "      <td>85677.0</td>\n",
       "      <td>99107</td>\n",
       "      <td>2</td>\n",
       "      <td>NaN</td>\n",
       "      <td>32590.7593</td>\n",
       "      <td>20236</td>\n",
       "    </tr>\n",
       "    <tr>\n",
       "      <th>1</th>\n",
       "      <td>4961</td>\n",
       "      <td>19</td>\n",
       "      <td>1996-04-29</td>\n",
       "      <td>30276</td>\n",
       "      <td>12</td>\n",
       "      <td>2523.00</td>\n",
       "      <td>B</td>\n",
       "      <td>21</td>\n",
       "      <td>POPLATEK MESICNE</td>\n",
       "      <td>OWNER</td>\n",
       "      <td>...</td>\n",
       "      <td>9104</td>\n",
       "      <td>1.5</td>\n",
       "      <td>2.07</td>\n",
       "      <td>123</td>\n",
       "      <td>2299.0</td>\n",
       "      <td>2354</td>\n",
       "      <td>1</td>\n",
       "      <td>NaN</td>\n",
       "      <td>25197.1375</td>\n",
       "      <td>15139</td>\n",
       "    </tr>\n",
       "    <tr>\n",
       "      <th>2</th>\n",
       "      <td>4962</td>\n",
       "      <td>25</td>\n",
       "      <td>1997-12-08</td>\n",
       "      <td>30276</td>\n",
       "      <td>12</td>\n",
       "      <td>2523.00</td>\n",
       "      <td>A</td>\n",
       "      <td>68</td>\n",
       "      <td>POPLATEK MESICNE</td>\n",
       "      <td>OWNER</td>\n",
       "      <td>...</td>\n",
       "      <td>9893</td>\n",
       "      <td>4.0</td>\n",
       "      <td>4.72</td>\n",
       "      <td>96</td>\n",
       "      <td>5623.0</td>\n",
       "      <td>5887</td>\n",
       "      <td>1</td>\n",
       "      <td>NaN</td>\n",
       "      <td>62991.4085</td>\n",
       "      <td>67</td>\n",
       "    </tr>\n",
       "    <tr>\n",
       "      <th>3</th>\n",
       "      <td>4967</td>\n",
       "      <td>37</td>\n",
       "      <td>1998-10-14</td>\n",
       "      <td>318480</td>\n",
       "      <td>60</td>\n",
       "      <td>5308.00</td>\n",
       "      <td>D</td>\n",
       "      <td>20</td>\n",
       "      <td>POPLATEK MESICNE</td>\n",
       "      <td>OWNER</td>\n",
       "      <td>...</td>\n",
       "      <td>8547</td>\n",
       "      <td>2.6</td>\n",
       "      <td>3.64</td>\n",
       "      <td>120</td>\n",
       "      <td>1563.0</td>\n",
       "      <td>1542</td>\n",
       "      <td>1</td>\n",
       "      <td>1.0</td>\n",
       "      <td>39954.0345</td>\n",
       "      <td>72</td>\n",
       "    </tr>\n",
       "    <tr>\n",
       "      <th>4</th>\n",
       "      <td>4968</td>\n",
       "      <td>38</td>\n",
       "      <td>1998-04-19</td>\n",
       "      <td>110736</td>\n",
       "      <td>48</td>\n",
       "      <td>2307.00</td>\n",
       "      <td>C</td>\n",
       "      <td>19</td>\n",
       "      <td>POPLATEK TYDNE</td>\n",
       "      <td>OWNER</td>\n",
       "      <td>...</td>\n",
       "      <td>8402</td>\n",
       "      <td>3.1</td>\n",
       "      <td>3.98</td>\n",
       "      <td>120</td>\n",
       "      <td>999.0</td>\n",
       "      <td>1099</td>\n",
       "      <td>1</td>\n",
       "      <td>NaN</td>\n",
       "      <td>31383.5818</td>\n",
       "      <td>13841</td>\n",
       "    </tr>\n",
       "  </tbody>\n",
       "</table>\n",
       "<p>5 rows × 34 columns</p>\n",
       "</div>"
      ],
      "text/plain": [
       "   loan_id  account_id        date  amount  duration payments status  \\\n",
       "0     4959           2  1994-01-05   80952        24  3373.00      A   \n",
       "1     4961          19  1996-04-29   30276        12  2523.00      B   \n",
       "2     4962          25  1997-12-08   30276        12  2523.00      A   \n",
       "3     4967          37  1998-10-14  318480        60  5308.00      D   \n",
       "4     4968          38  1998-04-19  110736        48  2307.00      C   \n",
       "\n",
       "   district_id         frequency   type  ...    A11  A12   A13  A14      A15  \\\n",
       "0            1  POPLATEK MESICNE  OWNER  ...  12541  0.2  0.43  167  85677.0   \n",
       "1           21  POPLATEK MESICNE  OWNER  ...   9104  1.5  2.07  123   2299.0   \n",
       "2           68  POPLATEK MESICNE  OWNER  ...   9893  4.0  4.72   96   5623.0   \n",
       "3           20  POPLATEK MESICNE  OWNER  ...   8547  2.6  3.64  120   1563.0   \n",
       "4           19    POPLATEK TYDNE  OWNER  ...   8402  3.1  3.98  120    999.0   \n",
       "\n",
       "     A16 no_clients  negative_balance  avg_balance  fixed_salary  \n",
       "0  99107          2               NaN   32590.7593         20236  \n",
       "1   2354          1               NaN   25197.1375         15139  \n",
       "2   5887          1               NaN   62991.4085            67  \n",
       "3   1542          1               1.0   39954.0345            72  \n",
       "4   1099          1               NaN   31383.5818         13841  \n",
       "\n",
       "[5 rows x 34 columns]"
      ]
     },
     "execution_count": 21,
     "metadata": {},
     "output_type": "execute_result"
    }
   ],
   "source": [
    "dt.head()"
   ]
  },
  {
   "cell_type": "code",
   "execution_count": 22,
   "id": "c81fd6f3",
   "metadata": {},
   "outputs": [],
   "source": [
    "# for selecting all the numeric datatypes in a dataframe.\n",
    "# dt.select_dtypes(include=np.number) \n",
    "#dt.select_dtypes(include=np.number).corr()"
   ]
  },
  {
   "cell_type": "code",
   "execution_count": 23,
   "id": "f5cf83a9",
   "metadata": {},
   "outputs": [],
   "source": [
    "# AGE OF CLIENT WHILE TAKING THE LOAN.\n",
    "dt['birth_date'] = pd.to_datetime(dt['birth_date'])\n",
    "dt['date'] = pd.to_datetime(dt['date'])\n",
    "dt['year_of_birth'] =  dt['birth_date'].dt.year\n",
    "dt['date_of_loan'] =  dt['date'].dt.year\n",
    "dt['age']=dt['date_of_loan']-dt['year_of_birth']\n",
    "#dt.head()"
   ]
  },
  {
   "cell_type": "code",
   "execution_count": 24,
   "id": "e004a0c1",
   "metadata": {},
   "outputs": [],
   "source": [
    "dt['status']=dt['status'].replace({'A':1,'B':0,'C':1,'D':0})\n",
    "dt['negative_balance']=dt['negative_balance'].fillna(0)\n",
    "dt['issued']=dt['issued'].fillna(0)\n",
    "dt.loc[(dt.negative_balance>0),'negative_balance']=1\n",
    "dt.loc[(dt.issued != 0) ,'issued']=1"
   ]
  },
  {
   "cell_type": "code",
   "execution_count": 25,
   "id": "a3fd366a",
   "metadata": {},
   "outputs": [
    {
     "data": {
      "text/html": [
       "<div>\n",
       "<style scoped>\n",
       "    .dataframe tbody tr th:only-of-type {\n",
       "        vertical-align: middle;\n",
       "    }\n",
       "\n",
       "    .dataframe tbody tr th {\n",
       "        vertical-align: top;\n",
       "    }\n",
       "\n",
       "    .dataframe thead th {\n",
       "        text-align: right;\n",
       "    }\n",
       "</style>\n",
       "<table border=\"1\" class=\"dataframe\">\n",
       "  <thead>\n",
       "    <tr style=\"text-align: right;\">\n",
       "      <th></th>\n",
       "      <th>loan_id</th>\n",
       "      <th>account_id</th>\n",
       "      <th>date</th>\n",
       "      <th>amount</th>\n",
       "      <th>duration</th>\n",
       "      <th>payments</th>\n",
       "      <th>status</th>\n",
       "      <th>district_id</th>\n",
       "      <th>frequency</th>\n",
       "      <th>type</th>\n",
       "      <th>...</th>\n",
       "      <th>A14</th>\n",
       "      <th>A15</th>\n",
       "      <th>A16</th>\n",
       "      <th>no_clients</th>\n",
       "      <th>negative_balance</th>\n",
       "      <th>avg_balance</th>\n",
       "      <th>fixed_salary</th>\n",
       "      <th>year_of_birth</th>\n",
       "      <th>date_of_loan</th>\n",
       "      <th>age</th>\n",
       "    </tr>\n",
       "  </thead>\n",
       "  <tbody>\n",
       "    <tr>\n",
       "      <th>0</th>\n",
       "      <td>4959</td>\n",
       "      <td>2</td>\n",
       "      <td>1994-01-05</td>\n",
       "      <td>80952</td>\n",
       "      <td>24</td>\n",
       "      <td>3373.00</td>\n",
       "      <td>1</td>\n",
       "      <td>1</td>\n",
       "      <td>POPLATEK MESICNE</td>\n",
       "      <td>OWNER</td>\n",
       "      <td>...</td>\n",
       "      <td>167</td>\n",
       "      <td>85677.0</td>\n",
       "      <td>99107</td>\n",
       "      <td>2</td>\n",
       "      <td>0.0</td>\n",
       "      <td>32590.7593</td>\n",
       "      <td>20236</td>\n",
       "      <td>1945</td>\n",
       "      <td>1994</td>\n",
       "      <td>49</td>\n",
       "    </tr>\n",
       "    <tr>\n",
       "      <th>1</th>\n",
       "      <td>4961</td>\n",
       "      <td>19</td>\n",
       "      <td>1996-04-29</td>\n",
       "      <td>30276</td>\n",
       "      <td>12</td>\n",
       "      <td>2523.00</td>\n",
       "      <td>0</td>\n",
       "      <td>21</td>\n",
       "      <td>POPLATEK MESICNE</td>\n",
       "      <td>OWNER</td>\n",
       "      <td>...</td>\n",
       "      <td>123</td>\n",
       "      <td>2299.0</td>\n",
       "      <td>2354</td>\n",
       "      <td>1</td>\n",
       "      <td>0.0</td>\n",
       "      <td>25197.1375</td>\n",
       "      <td>15139</td>\n",
       "      <td>1939</td>\n",
       "      <td>1996</td>\n",
       "      <td>57</td>\n",
       "    </tr>\n",
       "    <tr>\n",
       "      <th>2</th>\n",
       "      <td>4962</td>\n",
       "      <td>25</td>\n",
       "      <td>1997-12-08</td>\n",
       "      <td>30276</td>\n",
       "      <td>12</td>\n",
       "      <td>2523.00</td>\n",
       "      <td>1</td>\n",
       "      <td>68</td>\n",
       "      <td>POPLATEK MESICNE</td>\n",
       "      <td>OWNER</td>\n",
       "      <td>...</td>\n",
       "      <td>96</td>\n",
       "      <td>5623.0</td>\n",
       "      <td>5887</td>\n",
       "      <td>1</td>\n",
       "      <td>0.0</td>\n",
       "      <td>62991.4085</td>\n",
       "      <td>67</td>\n",
       "      <td>1962</td>\n",
       "      <td>1997</td>\n",
       "      <td>35</td>\n",
       "    </tr>\n",
       "    <tr>\n",
       "      <th>3</th>\n",
       "      <td>4967</td>\n",
       "      <td>37</td>\n",
       "      <td>1998-10-14</td>\n",
       "      <td>318480</td>\n",
       "      <td>60</td>\n",
       "      <td>5308.00</td>\n",
       "      <td>0</td>\n",
       "      <td>20</td>\n",
       "      <td>POPLATEK MESICNE</td>\n",
       "      <td>OWNER</td>\n",
       "      <td>...</td>\n",
       "      <td>120</td>\n",
       "      <td>1563.0</td>\n",
       "      <td>1542</td>\n",
       "      <td>1</td>\n",
       "      <td>1.0</td>\n",
       "      <td>39954.0345</td>\n",
       "      <td>72</td>\n",
       "      <td>1952</td>\n",
       "      <td>1998</td>\n",
       "      <td>46</td>\n",
       "    </tr>\n",
       "    <tr>\n",
       "      <th>4</th>\n",
       "      <td>4968</td>\n",
       "      <td>38</td>\n",
       "      <td>1998-04-19</td>\n",
       "      <td>110736</td>\n",
       "      <td>48</td>\n",
       "      <td>2307.00</td>\n",
       "      <td>1</td>\n",
       "      <td>19</td>\n",
       "      <td>POPLATEK TYDNE</td>\n",
       "      <td>OWNER</td>\n",
       "      <td>...</td>\n",
       "      <td>120</td>\n",
       "      <td>999.0</td>\n",
       "      <td>1099</td>\n",
       "      <td>1</td>\n",
       "      <td>0.0</td>\n",
       "      <td>31383.5818</td>\n",
       "      <td>13841</td>\n",
       "      <td>1940</td>\n",
       "      <td>1998</td>\n",
       "      <td>58</td>\n",
       "    </tr>\n",
       "  </tbody>\n",
       "</table>\n",
       "<p>5 rows × 37 columns</p>\n",
       "</div>"
      ],
      "text/plain": [
       "   loan_id  account_id       date  amount  duration payments  status  \\\n",
       "0     4959           2 1994-01-05   80952        24  3373.00       1   \n",
       "1     4961          19 1996-04-29   30276        12  2523.00       0   \n",
       "2     4962          25 1997-12-08   30276        12  2523.00       1   \n",
       "3     4967          37 1998-10-14  318480        60  5308.00       0   \n",
       "4     4968          38 1998-04-19  110736        48  2307.00       1   \n",
       "\n",
       "   district_id         frequency   type  ...  A14      A15    A16 no_clients  \\\n",
       "0            1  POPLATEK MESICNE  OWNER  ...  167  85677.0  99107          2   \n",
       "1           21  POPLATEK MESICNE  OWNER  ...  123   2299.0   2354          1   \n",
       "2           68  POPLATEK MESICNE  OWNER  ...   96   5623.0   5887          1   \n",
       "3           20  POPLATEK MESICNE  OWNER  ...  120   1563.0   1542          1   \n",
       "4           19    POPLATEK TYDNE  OWNER  ...  120    999.0   1099          1   \n",
       "\n",
       "  negative_balance avg_balance fixed_salary  year_of_birth  date_of_loan  age  \n",
       "0              0.0  32590.7593        20236           1945          1994   49  \n",
       "1              0.0  25197.1375        15139           1939          1996   57  \n",
       "2              0.0  62991.4085           67           1962          1997   35  \n",
       "3              1.0  39954.0345           72           1952          1998   46  \n",
       "4              0.0  31383.5818        13841           1940          1998   58  \n",
       "\n",
       "[5 rows x 37 columns]"
      ]
     },
     "execution_count": 25,
     "metadata": {},
     "output_type": "execute_result"
    }
   ],
   "source": [
    "dt.head()"
   ]
  },
  {
   "cell_type": "code",
   "execution_count": 27,
   "id": "84bdb997",
   "metadata": {},
   "outputs": [],
   "source": [
    "dt[\"unemployement\"]=(dt['A12']+dt['A13'])/2\n",
    "dt[\"crime\"]=(dt['A15']+dt['A16'])/2\n",
    "dt['crime_per_grand']=(dt['crime']*1000)/dt['A4']"
   ]
  },
  {
   "cell_type": "code",
   "execution_count": 28,
   "id": "91ea65bd",
   "metadata": {},
   "outputs": [],
   "source": [
    "#dt.info()"
   ]
  },
  {
   "cell_type": "code",
   "execution_count": 29,
   "id": "38b29018",
   "metadata": {},
   "outputs": [],
   "source": [
    "tabby=dt.iloc[:,[3,4,5,6,14,22,23,24,27,30,31,32,33,36,37,38,39]]"
   ]
  },
  {
   "cell_type": "code",
   "execution_count": 30,
   "id": "d6595aae",
   "metadata": {},
   "outputs": [],
   "source": [
    "\n",
    "tabby = tabby.rename({'A9': 'cities', 'A10': 'urban_ratio','A11':'average_salary','A14':'ratio_startups_grand'}, axis='columns')"
   ]
  },
  {
   "cell_type": "code",
   "execution_count": 32,
   "id": "c223921f",
   "metadata": {},
   "outputs": [],
   "source": [
    "# independent variables -  2,3,4,9,10,11,12,15"
   ]
  },
  {
   "cell_type": "code",
   "execution_count": 33,
   "id": "ad07c3db",
   "metadata": {},
   "outputs": [
    {
     "data": {
      "text/html": [
       "<div>\n",
       "<style scoped>\n",
       "    .dataframe tbody tr th:only-of-type {\n",
       "        vertical-align: middle;\n",
       "    }\n",
       "\n",
       "    .dataframe tbody tr th {\n",
       "        vertical-align: top;\n",
       "    }\n",
       "\n",
       "    .dataframe thead th {\n",
       "        text-align: right;\n",
       "    }\n",
       "</style>\n",
       "<table border=\"1\" class=\"dataframe\">\n",
       "  <thead>\n",
       "    <tr style=\"text-align: right;\">\n",
       "      <th></th>\n",
       "      <th>amount</th>\n",
       "      <th>duration</th>\n",
       "      <th>payments</th>\n",
       "      <th>status</th>\n",
       "      <th>issued</th>\n",
       "      <th>cities</th>\n",
       "      <th>urban_ratio</th>\n",
       "      <th>average_salary</th>\n",
       "      <th>ratio_startups_grand</th>\n",
       "      <th>no_clients</th>\n",
       "      <th>negative_balance</th>\n",
       "      <th>avg_balance</th>\n",
       "      <th>fixed_salary</th>\n",
       "      <th>age</th>\n",
       "      <th>unemployement</th>\n",
       "      <th>crime</th>\n",
       "      <th>crime_per_grand</th>\n",
       "    </tr>\n",
       "  </thead>\n",
       "  <tbody>\n",
       "    <tr>\n",
       "      <th>0</th>\n",
       "      <td>80952</td>\n",
       "      <td>24</td>\n",
       "      <td>3373.00</td>\n",
       "      <td>1</td>\n",
       "      <td>0</td>\n",
       "      <td>1</td>\n",
       "      <td>100.0</td>\n",
       "      <td>12541</td>\n",
       "      <td>167</td>\n",
       "      <td>2</td>\n",
       "      <td>0.0</td>\n",
       "      <td>32590.7593</td>\n",
       "      <td>20236</td>\n",
       "      <td>49</td>\n",
       "      <td>0.315</td>\n",
       "      <td>92392.0</td>\n",
       "      <td>76.676850</td>\n",
       "    </tr>\n",
       "    <tr>\n",
       "      <th>1</th>\n",
       "      <td>30276</td>\n",
       "      <td>12</td>\n",
       "      <td>2523.00</td>\n",
       "      <td>0</td>\n",
       "      <td>0</td>\n",
       "      <td>7</td>\n",
       "      <td>67.0</td>\n",
       "      <td>9104</td>\n",
       "      <td>123</td>\n",
       "      <td>1</td>\n",
       "      <td>0.0</td>\n",
       "      <td>25197.1375</td>\n",
       "      <td>15139</td>\n",
       "      <td>57</td>\n",
       "      <td>1.785</td>\n",
       "      <td>2326.5</td>\n",
       "      <td>22.511539</td>\n",
       "    </tr>\n",
       "    <tr>\n",
       "      <th>2</th>\n",
       "      <td>30276</td>\n",
       "      <td>12</td>\n",
       "      <td>2523.00</td>\n",
       "      <td>1</td>\n",
       "      <td>0</td>\n",
       "      <td>6</td>\n",
       "      <td>57.2</td>\n",
       "      <td>9893</td>\n",
       "      <td>96</td>\n",
       "      <td>1</td>\n",
       "      <td>0.0</td>\n",
       "      <td>62991.4085</td>\n",
       "      <td>67</td>\n",
       "      <td>35</td>\n",
       "      <td>4.36</td>\n",
       "      <td>5755.0</td>\n",
       "      <td>25.147696</td>\n",
       "    </tr>\n",
       "    <tr>\n",
       "      <th>3</th>\n",
       "      <td>318480</td>\n",
       "      <td>60</td>\n",
       "      <td>5308.00</td>\n",
       "      <td>0</td>\n",
       "      <td>0</td>\n",
       "      <td>4</td>\n",
       "      <td>58.4</td>\n",
       "      <td>8547</td>\n",
       "      <td>120</td>\n",
       "      <td>1</td>\n",
       "      <td>1.0</td>\n",
       "      <td>39954.0345</td>\n",
       "      <td>72</td>\n",
       "      <td>46</td>\n",
       "      <td>3.12</td>\n",
       "      <td>1552.5</td>\n",
       "      <td>21.975766</td>\n",
       "    </tr>\n",
       "    <tr>\n",
       "      <th>4</th>\n",
       "      <td>110736</td>\n",
       "      <td>48</td>\n",
       "      <td>2307.00</td>\n",
       "      <td>1</td>\n",
       "      <td>0</td>\n",
       "      <td>4</td>\n",
       "      <td>52.7</td>\n",
       "      <td>8402</td>\n",
       "      <td>120</td>\n",
       "      <td>1</td>\n",
       "      <td>0.0</td>\n",
       "      <td>31383.5818</td>\n",
       "      <td>13841</td>\n",
       "      <td>58</td>\n",
       "      <td>3.54</td>\n",
       "      <td>1049.0</td>\n",
       "      <td>20.397449</td>\n",
       "    </tr>\n",
       "  </tbody>\n",
       "</table>\n",
       "</div>"
      ],
      "text/plain": [
       "   amount  duration payments  status issued  cities urban_ratio  \\\n",
       "0   80952        24  3373.00       1      0       1       100.0   \n",
       "1   30276        12  2523.00       0      0       7        67.0   \n",
       "2   30276        12  2523.00       1      0       6        57.2   \n",
       "3  318480        60  5308.00       0      0       4        58.4   \n",
       "4  110736        48  2307.00       1      0       4        52.7   \n",
       "\n",
       "   average_salary  ratio_startups_grand  no_clients  negative_balance  \\\n",
       "0           12541                   167           2               0.0   \n",
       "1            9104                   123           1               0.0   \n",
       "2            9893                    96           1               0.0   \n",
       "3            8547                   120           1               1.0   \n",
       "4            8402                   120           1               0.0   \n",
       "\n",
       "  avg_balance  fixed_salary  age unemployement    crime  crime_per_grand  \n",
       "0  32590.7593         20236   49         0.315  92392.0        76.676850  \n",
       "1  25197.1375         15139   57         1.785   2326.5        22.511539  \n",
       "2  62991.4085            67   35          4.36   5755.0        25.147696  \n",
       "3  39954.0345            72   46          3.12   1552.5        21.975766  \n",
       "4  31383.5818         13841   58          3.54   1049.0        20.397449  "
      ]
     },
     "execution_count": 33,
     "metadata": {},
     "output_type": "execute_result"
    }
   ],
   "source": [
    "tabby.head()"
   ]
  },
  {
   "cell_type": "code",
   "execution_count": 34,
   "id": "9ba84396",
   "metadata": {},
   "outputs": [],
   "source": [
    "# tabby.to_excel('loan_1.xlsx',header=True)"
   ]
  },
  {
   "cell_type": "markdown",
   "id": "6d96a890",
   "metadata": {},
   "source": [
    "## EDA & FEATURE SELECTION "
   ]
  },
  {
   "cell_type": "code",
   "execution_count": 254,
   "id": "8908dbca",
   "metadata": {},
   "outputs": [],
   "source": [
    "# MAJOR PORTION OF EDA IS DONE IN TABLEAU , MAKE A FILE WITH ALL THE PICTURES , UNIVARIATE/ BIVARIATE ANALYSIS (ONE-SIDED)\n",
    "# FEATURE SELECTION TECHNIQUES - 2 SIDED (chi-square, wt of coefficients,info-gain) "
   ]
  },
  {
   "cell_type": "code",
   "execution_count": 255,
   "id": "c15db3f2",
   "metadata": {},
   "outputs": [],
   "source": [
    "f=tabby.iloc[:,[2,3,4,9,10,11,12,15]]\n"
   ]
  },
  {
   "cell_type": "code",
   "execution_count": 256,
   "id": "6cda9bbb",
   "metadata": {},
   "outputs": [
    {
     "data": {
      "text/html": [
       "<div>\n",
       "<style scoped>\n",
       "    .dataframe tbody tr th:only-of-type {\n",
       "        vertical-align: middle;\n",
       "    }\n",
       "\n",
       "    .dataframe tbody tr th {\n",
       "        vertical-align: top;\n",
       "    }\n",
       "\n",
       "    .dataframe thead th {\n",
       "        text-align: right;\n",
       "    }\n",
       "</style>\n",
       "<table border=\"1\" class=\"dataframe\">\n",
       "  <thead>\n",
       "    <tr style=\"text-align: right;\">\n",
       "      <th></th>\n",
       "      <th>payments</th>\n",
       "      <th>status</th>\n",
       "      <th>issued</th>\n",
       "      <th>no_clients</th>\n",
       "      <th>negative_balance</th>\n",
       "      <th>avg_balance</th>\n",
       "      <th>fixed_salary</th>\n",
       "      <th>crime</th>\n",
       "    </tr>\n",
       "  </thead>\n",
       "  <tbody>\n",
       "    <tr>\n",
       "      <th>0</th>\n",
       "      <td>3373.00</td>\n",
       "      <td>1</td>\n",
       "      <td>0</td>\n",
       "      <td>2</td>\n",
       "      <td>0.0</td>\n",
       "      <td>32590.7593</td>\n",
       "      <td>20236</td>\n",
       "      <td>92392.0</td>\n",
       "    </tr>\n",
       "    <tr>\n",
       "      <th>1</th>\n",
       "      <td>2523.00</td>\n",
       "      <td>0</td>\n",
       "      <td>0</td>\n",
       "      <td>1</td>\n",
       "      <td>0.0</td>\n",
       "      <td>25197.1375</td>\n",
       "      <td>15139</td>\n",
       "      <td>2326.5</td>\n",
       "    </tr>\n",
       "    <tr>\n",
       "      <th>2</th>\n",
       "      <td>2523.00</td>\n",
       "      <td>1</td>\n",
       "      <td>0</td>\n",
       "      <td>1</td>\n",
       "      <td>0.0</td>\n",
       "      <td>62991.4085</td>\n",
       "      <td>67</td>\n",
       "      <td>5755.0</td>\n",
       "    </tr>\n",
       "    <tr>\n",
       "      <th>3</th>\n",
       "      <td>5308.00</td>\n",
       "      <td>0</td>\n",
       "      <td>0</td>\n",
       "      <td>1</td>\n",
       "      <td>1.0</td>\n",
       "      <td>39954.0345</td>\n",
       "      <td>72</td>\n",
       "      <td>1552.5</td>\n",
       "    </tr>\n",
       "    <tr>\n",
       "      <th>4</th>\n",
       "      <td>2307.00</td>\n",
       "      <td>1</td>\n",
       "      <td>0</td>\n",
       "      <td>1</td>\n",
       "      <td>0.0</td>\n",
       "      <td>31383.5818</td>\n",
       "      <td>13841</td>\n",
       "      <td>1049.0</td>\n",
       "    </tr>\n",
       "  </tbody>\n",
       "</table>\n",
       "</div>"
      ],
      "text/plain": [
       "  payments  status issued  no_clients  negative_balance avg_balance  \\\n",
       "0  3373.00       1      0           2               0.0  32590.7593   \n",
       "1  2523.00       0      0           1               0.0  25197.1375   \n",
       "2  2523.00       1      0           1               0.0  62991.4085   \n",
       "3  5308.00       0      0           1               1.0  39954.0345   \n",
       "4  2307.00       1      0           1               0.0  31383.5818   \n",
       "\n",
       "   fixed_salary    crime  \n",
       "0         20236  92392.0  \n",
       "1         15139   2326.5  \n",
       "2            67   5755.0  \n",
       "3            72   1552.5  \n",
       "4         13841   1049.0  "
      ]
     },
     "execution_count": 256,
     "metadata": {},
     "output_type": "execute_result"
    }
   ],
   "source": [
    "f.head()"
   ]
  },
  {
   "cell_type": "code",
   "execution_count": 257,
   "id": "e28df30f",
   "metadata": {},
   "outputs": [
    {
     "data": {
      "text/plain": [
       "<AxesSubplot:>"
      ]
     },
     "execution_count": 257,
     "metadata": {},
     "output_type": "execute_result"
    },
    {
     "data": {
      "image/png": "[encoded data removed]",
      "text/plain": [
       "<Figure size 1008x864 with 2 Axes>"
      ]
     },
     "metadata": {},
     "output_type": "display_data"
    }
   ],
   "source": [
    "sns.heatmap(f.corr(),cmap='viridis',annot=True)"
   ]
  },
  {
   "cell_type": "code",
   "execution_count": 258,
   "id": "49fddb01",
   "metadata": {},
   "outputs": [],
   "source": [
    "f = f.astype({\"payments\": int, \"issued\": int,'avg_balance':int})\n",
    "f['crime']=f['crime'].fillna(f['crime'].mean())"
   ]
  },
  {
   "cell_type": "code",
   "execution_count": 259,
   "id": "3100fe46",
   "metadata": {},
   "outputs": [
    {
     "data": {
      "text/plain": [
       "count      682.000000\n",
       "mean     13724.325513\n",
       "std      14175.094473\n",
       "min          0.000000\n",
       "25%        166.250000\n",
       "50%      11740.500000\n",
       "75%      22001.750000\n",
       "max      49761.000000\n",
       "Name: fixed_salary, dtype: float64"
      ]
     },
     "execution_count": 259,
     "metadata": {},
     "output_type": "execute_result"
    }
   ],
   "source": [
    "f['fixed_salary'].describe()"
   ]
  },
  {
   "cell_type": "code",
   "execution_count": 260,
   "id": "ab9c8df2",
   "metadata": {},
   "outputs": [
    {
     "data": {
      "image/png": "[encoded data removed]",
      "text/plain": [
       "<Figure size 1008x864 with 1 Axes>"
      ]
     },
     "metadata": {},
     "output_type": "display_data"
    }
   ],
   "source": [
    "sns.boxplot(f['fixed_salary'])\n",
    "sns.set(rc={'figure.figsize':(14,12)})"
   ]
  },
  {
   "cell_type": "code",
   "execution_count": 261,
   "id": "6c294cf0",
   "metadata": {},
   "outputs": [],
   "source": [
    "fe=f.iloc[:,[0,2,3,4,5,6,7]]\n",
    "fe=fe.drop(columns=['avg_balance','crime'])\n",
    "x_train=fe.values\n",
    "y_train=f['status'].values"
   ]
  },
  {
   "cell_type": "code",
   "execution_count": null,
   "id": "e3f212d2",
   "metadata": {},
   "outputs": [],
   "source": []
  },
  {
   "cell_type": "markdown",
   "id": "a92c40b8",
   "metadata": {},
   "source": [
    "### USING SMOTE FOR BALANCING DATA (creating synthetic data points)"
   ]
  },
  {
   "cell_type": "code",
   "execution_count": 262,
   "id": "48c57441",
   "metadata": {},
   "outputs": [],
   "source": [
    "from imblearn.over_sampling import SMOTE \n",
    "sm = SMOTE(random_state=0)\n",
    "x_train, y_train = sm.fit_resample(x_train, y_train)\n"
   ]
  },
  {
   "cell_type": "code",
   "execution_count": 263,
   "id": "b8157733",
   "metadata": {},
   "outputs": [],
   "source": [
    "from sklearn.preprocessing import StandardScaler\n",
    "sc = StandardScaler()\n",
    "x_train = sc.fit_transform(x_train)"
   ]
  },
  {
   "cell_type": "markdown",
   "id": "fdfc2458",
   "metadata": {},
   "source": [
    "### VARIANCE INFLATION FACTOR "
   ]
  },
  {
   "cell_type": "code",
   "execution_count": 264,
   "id": "00b6a776",
   "metadata": {},
   "outputs": [
    {
     "name": "stdout",
     "output_type": "stream",
     "text": [
      "            feature       VIF\n",
      "0          payments  1.018191\n",
      "1            issued  1.037877\n",
      "2        no_clients  1.057403\n",
      "3  negative_balance  1.091169\n",
      "4      fixed_salary  1.089954\n"
     ]
    }
   ],
   "source": [
    "# variance inflation factor to check multi-collinearity between features.\n",
    "from statsmodels.stats.outliers_influence import variance_inflation_factor\n",
    "\n",
    "# VIF dataframe\n",
    "vif_data = pd.DataFrame()\n",
    "vif_data[\"feature\"] = fe.columns\n",
    "# calculating VIF for each feature\n",
    "vif_data[\"VIF\"] = [variance_inflation_factor(x_train, i)\n",
    "\t\t\t\t\t\tfor i in range(len(fe.columns))]\n",
    "\n",
    "print(vif_data)"
   ]
  },
  {
   "cell_type": "markdown",
   "id": "93e553c8",
   "metadata": {},
   "source": [
    "## MODEL BUILDING "
   ]
  },
  {
   "cell_type": "code",
   "execution_count": 265,
   "id": "cc3007d6",
   "metadata": {},
   "outputs": [
    {
     "data": {
      "text/plain": [
       "(RandomForestClassifier(criterion='entropy', n_estimators=20, random_state=0),)"
      ]
     },
     "execution_count": 265,
     "metadata": {},
     "output_type": "execute_result"
    }
   ],
   "source": [
    "from sklearn.ensemble import RandomForestClassifier\n",
    "classifier = RandomForestClassifier(n_estimators = 20, criterion = 'entropy', random_state = 0)\n",
    "classifier.fit(x_train, y_train),"
   ]
  },
  {
   "cell_type": "code",
   "execution_count": 266,
   "id": "8ac4f3c4",
   "metadata": {},
   "outputs": [
    {
     "data": {
      "text/plain": [
       "LogisticRegression(random_state=0)"
      ]
     },
     "execution_count": 266,
     "metadata": {},
     "output_type": "execute_result"
    }
   ],
   "source": [
    "from sklearn.linear_model import LogisticRegression\n",
    "classifier_lg = LogisticRegression(random_state = 0)\n",
    "classifier_lg.fit(x_train, y_train)"
   ]
  },
  {
   "cell_type": "code",
   "execution_count": 267,
   "id": "b04aa2e4",
   "metadata": {},
   "outputs": [
    {
     "data": {
      "text/plain": [
       "GaussianNB()"
      ]
     },
     "execution_count": 267,
     "metadata": {},
     "output_type": "execute_result"
    }
   ],
   "source": [
    "from sklearn.naive_bayes import GaussianNB\n",
    "classifier_nv = GaussianNB()\n",
    "classifier_nv.fit(x_train, y_train)"
   ]
  },
  {
   "cell_type": "code",
   "execution_count": 268,
   "id": "3a3498dd",
   "metadata": {},
   "outputs": [],
   "source": [
    "y_pred = classifier.predict(x_train)\n",
    "y_pred_lg = classifier_lg.predict(x_train)\n",
    "y_pred_nv = classifier_nv.predict(x_train)"
   ]
  },
  {
   "cell_type": "code",
   "execution_count": 269,
   "id": "eead0456",
   "metadata": {},
   "outputs": [
    {
     "name": "stdout",
     "output_type": "stream",
     "text": [
      "[[606   0]\n",
      " [  3 603]]\n"
     ]
    },
    {
     "data": {
      "text/plain": [
       "0.9975247524752475"
      ]
     },
     "execution_count": 269,
     "metadata": {},
     "output_type": "execute_result"
    }
   ],
   "source": [
    "from sklearn.metrics import confusion_matrix, accuracy_score,f1_score,precision_score,recall_score,cohen_kappa_score\n",
    "cm = confusion_matrix(y_train, y_pred)\n",
    "print(cm)\n",
    "accuracy_score(y_train, y_pred)\n"
   ]
  },
  {
   "cell_type": "code",
   "execution_count": 270,
   "id": "97c5eae2",
   "metadata": {},
   "outputs": [
    {
     "name": "stdout",
     "output_type": "stream",
     "text": [
      "[[495 111]\n",
      " [ 99 507]]\n"
     ]
    },
    {
     "data": {
      "text/plain": [
       "0.8267326732673267"
      ]
     },
     "execution_count": 270,
     "metadata": {},
     "output_type": "execute_result"
    }
   ],
   "source": [
    "from sklearn.metrics import confusion_matrix, accuracy_score\n",
    "cm = confusion_matrix(y_train, y_pred_lg)\n",
    "print(cm)\n",
    "accuracy_score(y_train, y_pred_lg)"
   ]
  },
  {
   "cell_type": "code",
   "execution_count": 271,
   "id": "b985458d",
   "metadata": {},
   "outputs": [
    {
     "name": "stdout",
     "output_type": "stream",
     "text": [
      "[[490 116]\n",
      " [ 74 532]]\n"
     ]
    },
    {
     "data": {
      "text/plain": [
       "0.8432343234323433"
      ]
     },
     "execution_count": 271,
     "metadata": {},
     "output_type": "execute_result"
    }
   ],
   "source": [
    "print(confusion_matrix(y_train, y_pred_svm))\n",
    "accuracy_score(y_train, y_pred_svm)"
   ]
  },
  {
   "cell_type": "code",
   "execution_count": 272,
   "id": "6d90537b",
   "metadata": {},
   "outputs": [
    {
     "name": "stdout",
     "output_type": "stream",
     "text": [
      "[[596  10]\n",
      " [213 393]]\n"
     ]
    },
    {
     "data": {
      "text/plain": [
       "0.816006600660066"
      ]
     },
     "execution_count": 272,
     "metadata": {},
     "output_type": "execute_result"
    }
   ],
   "source": [
    "print(confusion_matrix(y_train, y_pred_nv))\n",
    "accuracy_score(y_train, y_pred_nv)"
   ]
  },
  {
   "cell_type": "code",
   "execution_count": 273,
   "id": "c4665deb",
   "metadata": {},
   "outputs": [
    {
     "data": {
      "text/plain": [
       "0.8284313725490197"
      ]
     },
     "execution_count": 273,
     "metadata": {},
     "output_type": "execute_result"
    }
   ],
   "source": [
    "f1_score(y_train, y_pred_lg)"
   ]
  },
  {
   "cell_type": "code",
   "execution_count": 274,
   "id": "7dfd6e8f",
   "metadata": {},
   "outputs": [
    {
     "data": {
      "text/plain": [
       "0.8203883495145631"
      ]
     },
     "execution_count": 274,
     "metadata": {},
     "output_type": "execute_result"
    }
   ],
   "source": [
    "precision_score(y_train, y_pred_lg)"
   ]
  },
  {
   "cell_type": "code",
   "execution_count": 275,
   "id": "985a7aba",
   "metadata": {},
   "outputs": [
    {
     "data": {
      "text/plain": [
       "0.8484848484848486"
      ]
     },
     "execution_count": 275,
     "metadata": {},
     "output_type": "execute_result"
    }
   ],
   "source": [
    "f1_score(y_train, y_pred_svm)"
   ]
  },
  {
   "cell_type": "markdown",
   "id": "0eac8180",
   "metadata": {},
   "source": [
    "### STRATIFIED K-FOLD "
   ]
  },
  {
   "cell_type": "code",
   "execution_count": 276,
   "id": "f9ac6eb3",
   "metadata": {},
   "outputs": [
    {
     "name": "stdout",
     "output_type": "stream",
     "text": [
      "Accuracy: 82.97 %\n",
      "Standard Deviation: 1.95 %\n"
     ]
    }
   ],
   "source": [
    "from sklearn.model_selection import StratifiedKFold\n",
    "skf = StratifiedKFold(n_splits=3,shuffle=True,random_state=0)\n",
    "from sklearn.model_selection import cross_val_score\n",
    "accuracies = cross_val_score(estimator = classifier_lg, X = x_train, y = y_train, cv = skf,scoring='f1')# stratified by deafult.\n",
    "print(\"Accuracy: {:.2f} %\".format(accuracies.mean()*100))\n",
    "print(\"Standard Deviation: {:.2f} %\".format(accuracies.std()*100))"
   ]
  },
  {
   "cell_type": "code",
   "execution_count": 277,
   "id": "f4757554",
   "metadata": {},
   "outputs": [
    {
     "name": "stdout",
     "output_type": "stream",
     "text": [
      "[0.8377724  0.80288462 0.84848485]\n"
     ]
    }
   ],
   "source": [
    "print(accuracies)"
   ]
  },
  {
   "cell_type": "code",
   "execution_count": 278,
   "id": "bd16d600",
   "metadata": {},
   "outputs": [
    {
     "data": {
      "text/plain": [
       "0.995049504950495"
      ]
     },
     "execution_count": 278,
     "metadata": {},
     "output_type": "execute_result"
    }
   ],
   "source": [
    "cohen_kappa_score(y_train, y_pred)"
   ]
  },
  {
   "cell_type": "code",
   "execution_count": 279,
   "id": "60e56c5e",
   "metadata": {},
   "outputs": [
    {
     "data": {
      "text/plain": [
       "0.995049504950495"
      ]
     },
     "execution_count": 279,
     "metadata": {},
     "output_type": "execute_result"
    }
   ],
   "source": [
    "cohen_kappa_score(y_train,y_pred)"
   ]
  },
  {
   "cell_type": "markdown",
   "id": "0983e92f",
   "metadata": {},
   "source": [
    "### PROPER IMPLEMENTATION OF REPEATED STRATIFIED K-FOLD "
   ]
  },
  {
   "cell_type": "code",
   "execution_count": 280,
   "id": "46d83d6a",
   "metadata": {},
   "outputs": [
    {
     "name": "stdout",
     "output_type": "stream",
     "text": [
      "f1_score: mean: 81.3485323661658 , std :3.627310607374865\n"
     ]
    }
   ],
   "source": [
    "from sklearn.model_selection import RepeatedStratifiedKFold\n",
    "from sklearn.pipeline import Pipeline\n",
    "steps = list()\n",
    "steps.append(('scaler', StandardScaler()))\n",
    "steps.append(('log_model', LogisticRegression(random_state=0,C=0.00001)))\n",
    "pipeline = Pipeline(steps=steps)\n",
    "# define the evaluation procedure\n",
    "cv = RepeatedStratifiedKFold(n_splits=5, n_repeats=3, random_state=1)\n",
    "# evaluate the model using cross-validation\n",
    "scores = cross_val_score(pipeline, x_train, y_train, scoring='f1', cv=cv, n_jobs=-1)\n",
    "# report performance\n",
    "print('f1_score: mean: {} , std :{}'.format(scores.mean()*100, scores.std()*100))"
   ]
  },
  {
   "cell_type": "code",
   "execution_count": 281,
   "id": "bfef11d1",
   "metadata": {},
   "outputs": [
    {
     "data": {
      "text/plain": [
       "array([0.7638191 , 0.82191781, 0.83950617, 0.78632479, 0.81896552,\n",
       "       0.7638191 , 0.86330935, 0.8220339 , 0.82845188, 0.82905983,\n",
       "       0.73096447, 0.84507042, 0.81034483, 0.81578947, 0.86290323])"
      ]
     },
     "execution_count": 281,
     "metadata": {},
     "output_type": "execute_result"
    }
   ],
   "source": [
    "scores"
   ]
  },
  {
   "cell_type": "code",
   "execution_count": 282,
   "id": "0abc914a",
   "metadata": {},
   "outputs": [
    {
     "data": {
      "text/plain": [
       "array([[-0.58294761,  1.20142951,  1.71546139, -3.84144467,  0.69209643]])"
      ]
     },
     "execution_count": 282,
     "metadata": {},
     "output_type": "execute_result"
    }
   ],
   "source": [
    "classifier_lg.coef_"
   ]
  },
  {
   "cell_type": "markdown",
   "id": "43f8f369",
   "metadata": {},
   "source": [
    "## DEPLOYMENT "
   ]
  },
  {
   "cell_type": "code",
   "execution_count": 285,
   "id": "c475ca62",
   "metadata": {},
   "outputs": [],
   "source": [
    "import pickle\n",
    "filename = 'credit_model.pkl'\n",
    "pickle.dump(classifier_lg, open(filename, 'wb'))"
   ]
  },
  {
   "cell_type": "code",
   "execution_count": 286,
   "id": "b3810af5",
   "metadata": {},
   "outputs": [],
   "source": [
    "pickle.dump(sc, open('scaler.pkl', 'wb'))"
   ]
  }
 ],
 "metadata": {
  "kernelspec": {
   "display_name": "Python 3",
   "language": "python",
   "name": "python3"
  },
  "language_info": {
   "codemirror_mode": {
    "name": "ipython",
    "version": 3
   },
   "file_extension": ".py",
   "mimetype": "text/x-python",
   "name": "python",
   "nbconvert_exporter": "python",
   "pygments_lexer": "ipython3",
   "version": "3.8.8"
  }
 },
 "nbformat": 4,
 "nbformat_minor": 5
}
